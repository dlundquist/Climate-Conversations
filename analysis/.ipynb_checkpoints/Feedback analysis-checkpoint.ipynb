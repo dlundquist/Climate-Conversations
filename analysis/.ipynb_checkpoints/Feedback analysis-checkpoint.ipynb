{
 "cells": [
  {
   "cell_type": "code",
   "execution_count": 1,
   "metadata": {
    "ExecuteTime": {
     "end_time": "2017-12-02T03:28:15.956244Z",
     "start_time": "2017-12-02T03:28:09.352224Z"
    }
   },
   "outputs": [],
   "source": [
    "%matplotlib inline\n",
    "from matplotlib import pyplot as plt\n",
    "import seaborn as sns\n",
    "import nltk\n",
    "import numpy as np\n",
    "import pandas as pd"
   ]
  },
  {
   "cell_type": "markdown",
   "metadata": {},
   "source": [
    "# Load data"
   ]
  },
  {
   "cell_type": "code",
   "execution_count": 2,
   "metadata": {
    "ExecuteTime": {
     "end_time": "2017-12-02T03:28:16.049488Z",
     "start_time": "2017-12-02T03:28:15.959792Z"
    }
   },
   "outputs": [],
   "source": [
    "feedback = pd.read_csv(\"feedback_20171201.txt\", index_col=0, parse_dates=True)\n",
    "feedback = feedback['11-20-2017':]  # Just look at the class feedback"
   ]
  },
  {
   "cell_type": "code",
   "execution_count": 3,
   "metadata": {
    "ExecuteTime": {
     "end_time": "2017-12-02T03:28:16.194194Z",
     "start_time": "2017-12-02T03:28:16.051897Z"
    },
    "scrolled": false
   },
   "outputs": [
    {
     "data": {
      "text/html": [
       "<div>\n",
       "<style>\n",
       "    .dataframe thead tr:only-child th {\n",
       "        text-align: right;\n",
       "    }\n",
       "\n",
       "    .dataframe thead th {\n",
       "        text-align: left;\n",
       "    }\n",
       "\n",
       "    .dataframe tbody tr th {\n",
       "        vertical-align: top;\n",
       "    }\n",
       "</style>\n",
       "<table border=\"1\" class=\"dataframe\">\n",
       "  <thead>\n",
       "    <tr style=\"text-align: right;\">\n",
       "      <th></th>\n",
       "      <th>How did your conversation go?  Was it serious? Lighthearted? Humorous, or fun? Were you talking with friends, or family members, or acquaintances?</th>\n",
       "      <th>How would you change this app to create the kind of conversation you want to have?</th>\n",
       "      <th>Did something break?</th>\n",
       "      <th>Did you experience any glitches with the app?</th>\n",
       "      <th>Unnamed: 5</th>\n",
       "      <th>If you are a UW student using this app for a class, please enter your student ID</th>\n",
       "      <th>What events or questions did you find sparked the most conversation? Why? Where did those questions take your conversation?</th>\n",
       "    </tr>\n",
       "    <tr>\n",
       "      <th>Timestamp</th>\n",
       "      <th></th>\n",
       "      <th></th>\n",
       "      <th></th>\n",
       "      <th></th>\n",
       "      <th></th>\n",
       "      <th></th>\n",
       "      <th></th>\n",
       "    </tr>\n",
       "  </thead>\n",
       "  <tbody>\n",
       "    <tr>\n",
       "      <th>2017-11-21 22:54:44</th>\n",
       "      <td>Lighthearted in some parts, other times fairly...</td>\n",
       "      <td>Fill in a space for answers</td>\n",
       "      <td>NaN</td>\n",
       "      <td>Nope!</td>\n",
       "      <td>NaN</td>\n",
       "      <td>1628984</td>\n",
       "      <td>Coal, we talked about how good solar and wind ...</td>\n",
       "    </tr>\n",
       "    <tr>\n",
       "      <th>2017-11-21 22:56:46</th>\n",
       "      <td>fun</td>\n",
       "      <td>nothing</td>\n",
       "      <td>NaN</td>\n",
       "      <td>NaN</td>\n",
       "      <td>NaN</td>\n",
       "      <td>1560984</td>\n",
       "      <td>what do we eat today</td>\n",
       "    </tr>\n",
       "    <tr>\n",
       "      <th>2017-11-21 23:09:14</th>\n",
       "      <td>I felt that the conversation went well. I talk...</td>\n",
       "      <td>I would like a spot to fill in any answers and...</td>\n",
       "      <td>NaN</td>\n",
       "      <td>No, but I did have a personal glitch and am su...</td>\n",
       "      <td>NaN</td>\n",
       "      <td>1628984</td>\n",
       "      <td>One of the biggest conversation starters was w...</td>\n",
       "    </tr>\n",
       "    <tr>\n",
       "      <th>2017-11-22 21:24:08</th>\n",
       "      <td>Serious until we started talking about pikas. ...</td>\n",
       "      <td>More open ended questions, like \"what have you...</td>\n",
       "      <td>NaN</td>\n",
       "      <td>No</td>\n",
       "      <td>NaN</td>\n",
       "      <td>7833771</td>\n",
       "      <td>Talking about the pika being endangered. Defin...</td>\n",
       "    </tr>\n",
       "    <tr>\n",
       "      <th>2017-11-22 22:34:18</th>\n",
       "      <td>The conversations went pretty well! I did it w...</td>\n",
       "      <td>I think the \"when so and so was 15, this happe...</td>\n",
       "      <td>NaN</td>\n",
       "      <td>no</td>\n",
       "      <td>NaN</td>\n",
       "      <td>1667348</td>\n",
       "      <td>The question about rivers as people. None of u...</td>\n",
       "    </tr>\n",
       "    <tr>\n",
       "      <th>2017-11-23 18:20:28</th>\n",
       "      <td>\\tI had a conversation with my parents and my ...</td>\n",
       "      <td>\\tWe noticed that a lot of these questions are...</td>\n",
       "      <td>NaN</td>\n",
       "      <td>\\tWe did not experience any glitches with the ...</td>\n",
       "      <td>NaN</td>\n",
       "      <td>1269708</td>\n",
       "      <td>\\t\\n        The questions we talked most about...</td>\n",
       "    </tr>\n",
       "    <tr>\n",
       "      <th>2017-11-23 20:57:14</th>\n",
       "      <td>I was with a group of friends and families whi...</td>\n",
       "      <td>You should add details about the events alongs...</td>\n",
       "      <td>NaN</td>\n",
       "      <td>When I tried to open the website on Safari, it...</td>\n",
       "      <td>NaN</td>\n",
       "      <td>1630169</td>\n",
       "      <td>The event that sparked the most was the worst ...</td>\n",
       "    </tr>\n",
       "    <tr>\n",
       "      <th>2017-11-23 22:18:53</th>\n",
       "      <td>I was talking with family members: my little s...</td>\n",
       "      <td>This app DID create the kind of conversation I...</td>\n",
       "      <td>NaN</td>\n",
       "      <td>Nope, it just didn't exactly tell us that the ...</td>\n",
       "      <td>NaN</td>\n",
       "      <td>1775249</td>\n",
       "      <td>We spoke mostly about our own experiences and ...</td>\n",
       "    </tr>\n",
       "    <tr>\n",
       "      <th>2017-11-23 23:54:20</th>\n",
       "      <td>Over the holiday break, I convinced my family ...</td>\n",
       "      <td>I think the app is really creative and cool. I...</td>\n",
       "      <td>NaN</td>\n",
       "      <td>There was one time that I clicked the next but...</td>\n",
       "      <td>NaN</td>\n",
       "      <td>1729638</td>\n",
       "      <td>Without a doubt, I found that the questions th...</td>\n",
       "    </tr>\n",
       "    <tr>\n",
       "      <th>2017-11-24 00:50:02</th>\n",
       "      <td>I was talking with family and it started out l...</td>\n",
       "      <td>We varied off topic many times to other issues...</td>\n",
       "      <td>NaN</td>\n",
       "      <td>Sometimes I would click the next button and I ...</td>\n",
       "      <td>NaN</td>\n",
       "      <td>1763516</td>\n",
       "      <td>The mt St. Helens eruption was talked about bc...</td>\n",
       "    </tr>\n",
       "    <tr>\n",
       "      <th>2017-11-24 11:04:42</th>\n",
       "      <td>I played the ClimateConversations game with my...</td>\n",
       "      <td>I think the app would benefit from having some...</td>\n",
       "      <td>NaN</td>\n",
       "      <td>Yes, it glitched out after the last question! ...</td>\n",
       "      <td>NaN</td>\n",
       "      <td>1635914</td>\n",
       "      <td>The questions that sparked the most interest w...</td>\n",
       "    </tr>\n",
       "    <tr>\n",
       "      <th>2017-11-24 12:43:46</th>\n",
       "      <td>Overall, I would say that the conversation was...</td>\n",
       "      <td>\\nOne addition that would make a meaningful co...</td>\n",
       "      <td>NaN</td>\n",
       "      <td>NaN</td>\n",
       "      <td>NaN</td>\n",
       "      <td>1636063</td>\n",
       "      <td>The questions about water usage and drought we...</td>\n",
       "    </tr>\n",
       "    <tr>\n",
       "      <th>2017-11-24 13:40:44</th>\n",
       "      <td>Some friends of mine and myself participated i...</td>\n",
       "      <td>It would be fun to be able to pick a region or...</td>\n",
       "      <td>NaN</td>\n",
       "      <td>We experienced quite a bit. It kept taking us ...</td>\n",
       "      <td>NaN</td>\n",
       "      <td>1771116</td>\n",
       "      <td>I found that the questions that asked us about...</td>\n",
       "    </tr>\n",
       "    <tr>\n",
       "      <th>2017-11-24 15:03:18</th>\n",
       "      <td>Since the conversation was going on during the...</td>\n",
       "      <td>I think the questions in this app are involved...</td>\n",
       "      <td>NaN</td>\n",
       "      <td>I did not experience any glitch, everything we...</td>\n",
       "      <td>NaN</td>\n",
       "      <td>1539609</td>\n",
       "      <td>There are some topics that sparked the opinion...</td>\n",
       "    </tr>\n",
       "    <tr>\n",
       "      <th>2017-11-24 17:26:07</th>\n",
       "      <td>It was serious and humorous, and I talked to f...</td>\n",
       "      <td>I feel like this app is set up quite nicely ex...</td>\n",
       "      <td>NaN</td>\n",
       "      <td>The app said \"No game progress was found\" afte...</td>\n",
       "      <td>NaN</td>\n",
       "      <td>1733195</td>\n",
       "      <td>The events that sparked the most conversation ...</td>\n",
       "    </tr>\n",
       "    <tr>\n",
       "      <th>2017-11-24 17:47:33</th>\n",
       "      <td>The conversation was between me and my fratern...</td>\n",
       "      <td>What would be cool with this app is if we coul...</td>\n",
       "      <td>NaN</td>\n",
       "      <td>No.</td>\n",
       "      <td>NaN</td>\n",
       "      <td>1736263</td>\n",
       "      <td>The first question that was asked was very ins...</td>\n",
       "    </tr>\n",
       "    <tr>\n",
       "      <th>2017-11-24 17:56:47</th>\n",
       "      <td>The conversations were often lighthearted. As ...</td>\n",
       "      <td>I believe this app is actually set up pretty w...</td>\n",
       "      <td>NaN</td>\n",
       "      <td>At the end of all three rounds the game said \"...</td>\n",
       "      <td>NaN</td>\n",
       "      <td>1733195 (re-doing it to make it more thorough)</td>\n",
       "      <td>I found that questions asking about superfund ...</td>\n",
       "    </tr>\n",
       "    <tr>\n",
       "      <th>2017-11-24 18:29:12</th>\n",
       "      <td>The conversation went smoothly, though the flo...</td>\n",
       "      <td>Many of the questions were very brief, and cou...</td>\n",
       "      <td>NaN</td>\n",
       "      <td>Did not experience any glitches.</td>\n",
       "      <td>NaN</td>\n",
       "      <td>1721301</td>\n",
       "      <td>The questions that sparked the most conversati...</td>\n",
       "    </tr>\n",
       "    <tr>\n",
       "      <th>2017-11-24 22:27:26</th>\n",
       "      <td>The conversation went fairly well. I talked wi...</td>\n",
       "      <td>I think it would be cool to allow people who u...</td>\n",
       "      <td>NaN</td>\n",
       "      <td>No, I did not experience any glitches with the...</td>\n",
       "      <td>NaN</td>\n",
       "      <td>1736280</td>\n",
       "      <td>The questions that sparked the most conversati...</td>\n",
       "    </tr>\n",
       "    <tr>\n",
       "      <th>2017-11-25 15:35:51</th>\n",
       "      <td>The conversation went well -- I was talking wi...</td>\n",
       "      <td>I think I would make it more interactive. For ...</td>\n",
       "      <td>NaN</td>\n",
       "      <td>Yes - when I was done with the app it then tol...</td>\n",
       "      <td>NaN</td>\n",
       "      <td>1729860</td>\n",
       "      <td>When my friend Amelie was asked if she or anyo...</td>\n",
       "    </tr>\n",
       "    <tr>\n",
       "      <th>2017-11-25 16:21:11</th>\n",
       "      <td>I completed this assignment with my mom and st...</td>\n",
       "      <td>This app was fantastic in acting as an instiga...</td>\n",
       "      <td>NaN</td>\n",
       "      <td>Nope!</td>\n",
       "      <td>NaN</td>\n",
       "      <td>1374314</td>\n",
       "      <td>Most, if not all, of the questions that the ap...</td>\n",
       "    </tr>\n",
       "    <tr>\n",
       "      <th>2017-11-25 17:24:33</th>\n",
       "      <td>The conversation started off kinda lighthearte...</td>\n",
       "      <td>I think that including some explanations or kn...</td>\n",
       "      <td>NaN</td>\n",
       "      <td>I originally planned to do a conversation with...</td>\n",
       "      <td>NaN</td>\n",
       "      <td>1764811</td>\n",
       "      <td>It was the question about charging people and ...</td>\n",
       "    </tr>\n",
       "    <tr>\n",
       "      <th>2017-11-25 18:49:11</th>\n",
       "      <td>The conversations were serious, because all of...</td>\n",
       "      <td>The App was fine, it had a bit of confusion bu...</td>\n",
       "      <td>NaN</td>\n",
       "      <td>No glitches but kind of confusing to use. I di...</td>\n",
       "      <td>NaN</td>\n",
       "      <td>1625296</td>\n",
       "      <td>Since my brother and I frequently talk about t...</td>\n",
       "    </tr>\n",
       "    <tr>\n",
       "      <th>2017-11-26 11:09:19</th>\n",
       "      <td>The conversation went pretty smoothly. Since I...</td>\n",
       "      <td>I actually thoroughly enjoyed how the app form...</td>\n",
       "      <td>NaN</td>\n",
       "      <td>I did not experience any glitches!</td>\n",
       "      <td>NaN</td>\n",
       "      <td>1734905</td>\n",
       "      <td>One question that sparked a lot of conversatio...</td>\n",
       "    </tr>\n",
       "    <tr>\n",
       "      <th>2017-11-26 11:42:01</th>\n",
       "      <td>Our conversation was kind of everything. We we...</td>\n",
       "      <td>Well first off, I don't know how much of it in...</td>\n",
       "      <td>NaN</td>\n",
       "      <td>Yes, but not major ones. First off, I don't kn...</td>\n",
       "      <td>NaN</td>\n",
       "      <td>1630249</td>\n",
       "      <td>Basically every question sparked some sort of ...</td>\n",
       "    </tr>\n",
       "    <tr>\n",
       "      <th>2017-11-26 15:05:50</th>\n",
       "      <td>Most of our conversation was lighthearted beca...</td>\n",
       "      <td>I would have the user answer a few simple yes ...</td>\n",
       "      <td>NaN</td>\n",
       "      <td>No, it worked well.</td>\n",
       "      <td>NaN</td>\n",
       "      <td>1677318</td>\n",
       "      <td>The event which most sparked our conversation ...</td>\n",
       "    </tr>\n",
       "    <tr>\n",
       "      <th>2017-11-26 15:46:16</th>\n",
       "      <td>I thought that my conversation with my family ...</td>\n",
       "      <td>I thought the app was really innovative and fu...</td>\n",
       "      <td>NaN</td>\n",
       "      <td>There were no glitches that I experienced with...</td>\n",
       "      <td>NaN</td>\n",
       "      <td>1732958</td>\n",
       "      <td>There were definitely some questions that the ...</td>\n",
       "    </tr>\n",
       "    <tr>\n",
       "      <th>2017-11-26 16:20:11</th>\n",
       "      <td>I enjoyed the experience that this app created...</td>\n",
       "      <td>I think that is important to remember what has...</td>\n",
       "      <td>NaN</td>\n",
       "      <td>I did not have any problems with glitches with...</td>\n",
       "      <td>NaN</td>\n",
       "      <td>1630311</td>\n",
       "      <td>First, the questions regarding specific summer...</td>\n",
       "    </tr>\n",
       "    <tr>\n",
       "      <th>2017-11-26 20:31:29</th>\n",
       "      <td>Discussed with my parents and husband. The dis...</td>\n",
       "      <td>The app was very basic, and honestly was prett...</td>\n",
       "      <td>NaN</td>\n",
       "      <td>The app is very simple, but very confusing. I'...</td>\n",
       "      <td>NaN</td>\n",
       "      <td>1774002</td>\n",
       "      <td>Questions about ozone created a lot of questio...</td>\n",
       "    </tr>\n",
       "    <tr>\n",
       "      <th>2017-11-26 22:24:19</th>\n",
       "      <td>It was serious, but lighthearted because it wa...</td>\n",
       "      <td>The app started the conversations by asking a ...</td>\n",
       "      <td>NaN</td>\n",
       "      <td>Yes. I tried to open the link on my phone and ...</td>\n",
       "      <td>NaN</td>\n",
       "      <td>1725061</td>\n",
       "      <td>The questions about the drought in California ...</td>\n",
       "    </tr>\n",
       "    <tr>\n",
       "      <th>...</th>\n",
       "      <td>...</td>\n",
       "      <td>...</td>\n",
       "      <td>...</td>\n",
       "      <td>...</td>\n",
       "      <td>...</td>\n",
       "      <td>...</td>\n",
       "      <td>...</td>\n",
       "    </tr>\n",
       "    <tr>\n",
       "      <th>2017-11-29 21:11:09</th>\n",
       "      <td>(Disclaimer: This are my real responses. I did...</td>\n",
       "      <td>To improve this app, I would include more vari...</td>\n",
       "      <td>NaN</td>\n",
       "      <td>Yes, I experienced several glitches with this ...</td>\n",
       "      <td>NaN</td>\n",
       "      <td>1632299</td>\n",
       "      <td>While talking with my Republican roommate, the...</td>\n",
       "    </tr>\n",
       "    <tr>\n",
       "      <th>2017-11-29 21:16:54</th>\n",
       "      <td>I was talking with my friends that go to The U...</td>\n",
       "      <td>I would make the questions move faster and cov...</td>\n",
       "      <td>NaN</td>\n",
       "      <td>Yes, it kept saying internal error im not sure...</td>\n",
       "      <td>NaN</td>\n",
       "      <td>1726635</td>\n",
       "      <td>The questions about carbon storage led to the ...</td>\n",
       "    </tr>\n",
       "    <tr>\n",
       "      <th>2017-11-29 21:18:20</th>\n",
       "      <td>The conversation went great! My father, who wa...</td>\n",
       "      <td>I would change the app by making it more inter...</td>\n",
       "      <td>NaN</td>\n",
       "      <td>wouldn't save game progress. After we were com...</td>\n",
       "      <td>NaN</td>\n",
       "      <td>1522489</td>\n",
       "      <td>The drought in CA sparked the most conversatio...</td>\n",
       "    </tr>\n",
       "    <tr>\n",
       "      <th>2017-11-29 21:40:20</th>\n",
       "      <td>I talked with friends and it was a fun but ser...</td>\n",
       "      <td>I would maybe include more numbers/facts in th...</td>\n",
       "      <td>NaN</td>\n",
       "      <td>Yes, at times when I tried to start the game i...</td>\n",
       "      <td>NaN</td>\n",
       "      <td>1725376</td>\n",
       "      <td>The question that sparked the most conversatio...</td>\n",
       "    </tr>\n",
       "    <tr>\n",
       "      <th>2017-11-29 21:50:49</th>\n",
       "      <td>The conversation was relatively light hearted,...</td>\n",
       "      <td>In order to change the conversation, I would t...</td>\n",
       "      <td>NaN</td>\n",
       "      <td>there were a couple times when the system woul...</td>\n",
       "      <td>NaN</td>\n",
       "      <td>1564335</td>\n",
       "      <td>The events that sparked the most conversation ...</td>\n",
       "    </tr>\n",
       "    <tr>\n",
       "      <th>2017-11-29 22:12:38</th>\n",
       "      <td>Our conversations went really well! It was rel...</td>\n",
       "      <td>I thought the app did a really good job of tai...</td>\n",
       "      <td>NaN</td>\n",
       "      <td>NaN</td>\n",
       "      <td>NaN</td>\n",
       "      <td>1521063</td>\n",
       "      <td>I'd say that the majority of our lengthy conve...</td>\n",
       "    </tr>\n",
       "    <tr>\n",
       "      <th>2017-11-29 22:19:21</th>\n",
       "      <td>It was serious, but also sort of surface level...</td>\n",
       "      <td>The facts related to a person's age were prett...</td>\n",
       "      <td>NaN</td>\n",
       "      <td>Yes. Sometimes there was a server error. At th...</td>\n",
       "      <td>NaN</td>\n",
       "      <td>1562515</td>\n",
       "      <td>We're from different cities in the general sam...</td>\n",
       "    </tr>\n",
       "    <tr>\n",
       "      <th>2017-11-29 22:25:47</th>\n",
       "      <td>Yes the conversation was very lighthearted. Tw...</td>\n",
       "      <td>I would want it to move through topics much fa...</td>\n",
       "      <td>NaN</td>\n",
       "      <td>Yes im not sure if any of my data was saved.</td>\n",
       "      <td>NaN</td>\n",
       "      <td>1726635</td>\n",
       "      <td>The most controversial topic was storing carbo...</td>\n",
       "    </tr>\n",
       "    <tr>\n",
       "      <th>2017-11-29 22:38:12</th>\n",
       "      <td>I decided to play this game while I was home f...</td>\n",
       "      <td>Overall, I think that this app was very succes...</td>\n",
       "      <td>NaN</td>\n",
       "      <td>No</td>\n",
       "      <td>NaN</td>\n",
       "      <td>1770515</td>\n",
       "      <td>As I mentioned previously, my parents are both...</td>\n",
       "    </tr>\n",
       "    <tr>\n",
       "      <th>2017-11-29 22:39:50</th>\n",
       "      <td>I chose to have a conversation with my immedia...</td>\n",
       "      <td>This app is very useful for creating a space t...</td>\n",
       "      <td>NaN</td>\n",
       "      <td>I did not have any issues while using the appl...</td>\n",
       "      <td>NaN</td>\n",
       "      <td>1562599</td>\n",
       "      <td>The questions that seemed to spark the most co...</td>\n",
       "    </tr>\n",
       "    <tr>\n",
       "      <th>2017-11-29 23:02:51</th>\n",
       "      <td>My conversations were fairly lighthearted beca...</td>\n",
       "      <td>I would like to make the app more interactive ...</td>\n",
       "      <td>NaN</td>\n",
       "      <td>The app responded slowly which may have been d...</td>\n",
       "      <td>NaN</td>\n",
       "      <td>1630515</td>\n",
       "      <td>One of our most memorable conversations was wh...</td>\n",
       "    </tr>\n",
       "    <tr>\n",
       "      <th>2017-11-29 23:06:39</th>\n",
       "      <td>When I decided to use the app, I didn't really...</td>\n",
       "      <td>First off, I like the format and the personali...</td>\n",
       "      <td>NaN</td>\n",
       "      <td>I did not</td>\n",
       "      <td>NaN</td>\n",
       "      <td>1736314</td>\n",
       "      <td>The events that sparked most questions were by...</td>\n",
       "    </tr>\n",
       "    <tr>\n",
       "      <th>2017-11-29 23:09:54</th>\n",
       "      <td>The conversations went very well I think. I wa...</td>\n",
       "      <td>I found this app to be very well structured an...</td>\n",
       "      <td>NaN</td>\n",
       "      <td>Flawless</td>\n",
       "      <td>NaN</td>\n",
       "      <td>1575191</td>\n",
       "      <td>Since my family members did not need to be con...</td>\n",
       "    </tr>\n",
       "    <tr>\n",
       "      <th>2017-11-29 23:30:52</th>\n",
       "      <td>While talking with my family, the conversa...</td>\n",
       "      <td>For the most part, the app had very good qu...</td>\n",
       "      <td>NaN</td>\n",
       "      <td>no</td>\n",
       "      <td>NaN</td>\n",
       "      <td>1574618</td>\n",
       "      <td>The particular questions that sparked the m...</td>\n",
       "    </tr>\n",
       "    <tr>\n",
       "      <th>2017-11-29 23:34:34</th>\n",
       "      <td>The overall conversation was pretty lightheart...</td>\n",
       "      <td>Using ages and presenting a real case at firs...</td>\n",
       "      <td>NaN</td>\n",
       "      <td>No</td>\n",
       "      <td>NaN</td>\n",
       "      <td>1765275</td>\n",
       "      <td>As I mentioned below, the overall mood was pr...</td>\n",
       "    </tr>\n",
       "    <tr>\n",
       "      <th>2017-11-29 23:38:42</th>\n",
       "      <td>Our conservation was filled with various types...</td>\n",
       "      <td>I really like the layout of this app, especial...</td>\n",
       "      <td>NaN</td>\n",
       "      <td>No, I did not experience any glitches .</td>\n",
       "      <td>NaN</td>\n",
       "      <td>1627502</td>\n",
       "      <td>Since I am enrolled in class , and have been e...</td>\n",
       "    </tr>\n",
       "    <tr>\n",
       "      <th>2017-11-29 23:45:25</th>\n",
       "      <td>The conversations we had went quite well. If I...</td>\n",
       "      <td>One change I would make to this app to help fa...</td>\n",
       "      <td>NaN</td>\n",
       "      <td>Not anything that was noticed.</td>\n",
       "      <td>NaN</td>\n",
       "      <td>1622114</td>\n",
       "      <td>The questions that sparked the most conversati...</td>\n",
       "    </tr>\n",
       "    <tr>\n",
       "      <th>2017-11-29 23:49:29</th>\n",
       "      <td>Because I played the game with my family membe...</td>\n",
       "      <td>I would say the game was deeply intriguing in ...</td>\n",
       "      <td>NaN</td>\n",
       "      <td>NaN</td>\n",
       "      <td>NaN</td>\n",
       "      <td>1668409</td>\n",
       "      <td>The two questions above definitely sparked the...</td>\n",
       "    </tr>\n",
       "    <tr>\n",
       "      <th>2017-11-29 23:58:12</th>\n",
       "      <td>The conversation is pretty, not too serious. I...</td>\n",
       "      <td>I want this APP to have some more simple quest...</td>\n",
       "      <td>NaN</td>\n",
       "      <td>Yes. I can not have the conversation with all ...</td>\n",
       "      <td>NaN</td>\n",
       "      <td>1770124</td>\n",
       "      <td>We sparkle the most on the topic of coal and w...</td>\n",
       "    </tr>\n",
       "    <tr>\n",
       "      <th>2017-11-29 23:58:33</th>\n",
       "      <td>I used the climate conversation app with 2 oth...</td>\n",
       "      <td>I would not make any large changes to the appl...</td>\n",
       "      <td>NaN</td>\n",
       "      <td>I originally had 3 friends ready to play but e...</td>\n",
       "      <td>NaN</td>\n",
       "      <td>1760719</td>\n",
       "      <td>One of the topics that we talked a lot about w...</td>\n",
       "    </tr>\n",
       "    <tr>\n",
       "      <th>2017-11-29 23:58:44</th>\n",
       "      <td>I talked with my friends, and our conversation...</td>\n",
       "      <td>I would like to change this app in like a deba...</td>\n",
       "      <td>NaN</td>\n",
       "      <td>NaN</td>\n",
       "      <td>NaN</td>\n",
       "      <td>1665311</td>\n",
       "      <td>There were few questions that actually applied...</td>\n",
       "    </tr>\n",
       "    <tr>\n",
       "      <th>2017-11-30 03:08:52</th>\n",
       "      <td>My conversation with my friends was not seriou...</td>\n",
       "      <td>Have the questions more user friendly.</td>\n",
       "      <td>NaN</td>\n",
       "      <td>Yes, hard to open the app.</td>\n",
       "      <td>NaN</td>\n",
       "      <td>1566865</td>\n",
       "      <td>About whether humans have an impact on climate...</td>\n",
       "    </tr>\n",
       "    <tr>\n",
       "      <th>2017-11-30 03:12:42</th>\n",
       "      <td>It was half-casual and half-serious. I was sur...</td>\n",
       "      <td>More images as complement of sentences, defini...</td>\n",
       "      <td>NaN</td>\n",
       "      <td>NaN</td>\n",
       "      <td>NaN</td>\n",
       "      <td>1534025</td>\n",
       "      <td>We shared many opinions on the global collabor...</td>\n",
       "    </tr>\n",
       "    <tr>\n",
       "      <th>2017-11-30 16:21:45</th>\n",
       "      <td>It went alright. It started out fun but it def...</td>\n",
       "      <td>I think I would add some bullet points to the ...</td>\n",
       "      <td>NaN</td>\n",
       "      <td>No.</td>\n",
       "      <td>NaN</td>\n",
       "      <td>1642541</td>\n",
       "      <td>I would say the political/policy questions def...</td>\n",
       "    </tr>\n",
       "    <tr>\n",
       "      <th>2017-11-30 20:14:14</th>\n",
       "      <td>I was talking with my friends and the conversa...</td>\n",
       "      <td>I would add more questions so that people can ...</td>\n",
       "      <td>NaN</td>\n",
       "      <td>I did not experience any glitches. Nice app so...</td>\n",
       "      <td>NaN</td>\n",
       "      <td>choi828</td>\n",
       "      <td>How is your community shaped by the climate or...</td>\n",
       "    </tr>\n",
       "    <tr>\n",
       "      <th>2017-11-30 21:45:47</th>\n",
       "      <td>Our conversation started of as humorous, it wa...</td>\n",
       "      <td>maybe including topics such as increase famine...</td>\n",
       "      <td>NaN</td>\n",
       "      <td>the app was actually very insightful</td>\n",
       "      <td>NaN</td>\n",
       "      <td>1770906</td>\n",
       "      <td>one of the conversations that had various poin...</td>\n",
       "    </tr>\n",
       "    <tr>\n",
       "      <th>2017-12-01 01:56:12</th>\n",
       "      <td>It was serious. My family takes climate change...</td>\n",
       "      <td>Maybe get to choose topics you want to stay aw...</td>\n",
       "      <td>NaN</td>\n",
       "      <td>Yes, an error message: There was a problem loa...</td>\n",
       "      <td>NaN</td>\n",
       "      <td>1660779</td>\n",
       "      <td>The ones that were more political, like when G...</td>\n",
       "    </tr>\n",
       "    <tr>\n",
       "      <th>2017-12-01 12:47:36</th>\n",
       "      <td>It was quite lighthearted. I had conversation ...</td>\n",
       "      <td>I would change this app by adding more informa...</td>\n",
       "      <td>NaN</td>\n",
       "      <td>There were some technological glitches.</td>\n",
       "      <td>NaN</td>\n",
       "      <td>sikim45</td>\n",
       "      <td>We mostly talked about recent climate changes ...</td>\n",
       "    </tr>\n",
       "    <tr>\n",
       "      <th>2017-12-01 12:50:06</th>\n",
       "      <td>It was serious</td>\n",
       "      <td>I don't know</td>\n",
       "      <td>NaN</td>\n",
       "      <td>no</td>\n",
       "      <td>NaN</td>\n",
       "      <td>1263685</td>\n",
       "      <td>Artic Sea ice melting</td>\n",
       "    </tr>\n",
       "    <tr>\n",
       "      <th>2017-12-01 12:52:15</th>\n",
       "      <td>Somewhat lighthearted and humorous. I did not ...</td>\n",
       "      <td>I thought this app was just great.</td>\n",
       "      <td>NaN</td>\n",
       "      <td>Nope</td>\n",
       "      <td>NaN</td>\n",
       "      <td>1238914</td>\n",
       "      <td>We talked a lot about ice melting because we t...</td>\n",
       "    </tr>\n",
       "  </tbody>\n",
       "</table>\n",
       "<p>156 rows × 7 columns</p>\n",
       "</div>"
      ],
      "text/plain": [
       "                    How did your conversation go?  Was it serious? Lighthearted? Humorous, or fun? Were you talking with friends, or family members, or acquaintances?   \\\n",
       "Timestamp                                                                                                                                                                 \n",
       "2017-11-21 22:54:44  Lighthearted in some parts, other times fairly...                                                                                                    \n",
       "2017-11-21 22:56:46                                                fun                                                                                                    \n",
       "2017-11-21 23:09:14  I felt that the conversation went well. I talk...                                                                                                    \n",
       "2017-11-22 21:24:08  Serious until we started talking about pikas. ...                                                                                                    \n",
       "2017-11-22 22:34:18  The conversations went pretty well! I did it w...                                                                                                    \n",
       "2017-11-23 18:20:28  \\tI had a conversation with my parents and my ...                                                                                                    \n",
       "2017-11-23 20:57:14  I was with a group of friends and families whi...                                                                                                    \n",
       "2017-11-23 22:18:53  I was talking with family members: my little s...                                                                                                    \n",
       "2017-11-23 23:54:20  Over the holiday break, I convinced my family ...                                                                                                    \n",
       "2017-11-24 00:50:02  I was talking with family and it started out l...                                                                                                    \n",
       "2017-11-24 11:04:42  I played the ClimateConversations game with my...                                                                                                    \n",
       "2017-11-24 12:43:46  Overall, I would say that the conversation was...                                                                                                    \n",
       "2017-11-24 13:40:44  Some friends of mine and myself participated i...                                                                                                    \n",
       "2017-11-24 15:03:18  Since the conversation was going on during the...                                                                                                    \n",
       "2017-11-24 17:26:07  It was serious and humorous, and I talked to f...                                                                                                    \n",
       "2017-11-24 17:47:33  The conversation was between me and my fratern...                                                                                                    \n",
       "2017-11-24 17:56:47  The conversations were often lighthearted. As ...                                                                                                    \n",
       "2017-11-24 18:29:12  The conversation went smoothly, though the flo...                                                                                                    \n",
       "2017-11-24 22:27:26  The conversation went fairly well. I talked wi...                                                                                                    \n",
       "2017-11-25 15:35:51  The conversation went well -- I was talking wi...                                                                                                    \n",
       "2017-11-25 16:21:11  I completed this assignment with my mom and st...                                                                                                    \n",
       "2017-11-25 17:24:33  The conversation started off kinda lighthearte...                                                                                                    \n",
       "2017-11-25 18:49:11  The conversations were serious, because all of...                                                                                                    \n",
       "2017-11-26 11:09:19  The conversation went pretty smoothly. Since I...                                                                                                    \n",
       "2017-11-26 11:42:01  Our conversation was kind of everything. We we...                                                                                                    \n",
       "2017-11-26 15:05:50  Most of our conversation was lighthearted beca...                                                                                                    \n",
       "2017-11-26 15:46:16  I thought that my conversation with my family ...                                                                                                    \n",
       "2017-11-26 16:20:11  I enjoyed the experience that this app created...                                                                                                    \n",
       "2017-11-26 20:31:29  Discussed with my parents and husband. The dis...                                                                                                    \n",
       "2017-11-26 22:24:19  It was serious, but lighthearted because it wa...                                                                                                    \n",
       "...                                                                ...                                                                                                    \n",
       "2017-11-29 21:11:09  (Disclaimer: This are my real responses. I did...                                                                                                    \n",
       "2017-11-29 21:16:54  I was talking with my friends that go to The U...                                                                                                    \n",
       "2017-11-29 21:18:20  The conversation went great! My father, who wa...                                                                                                    \n",
       "2017-11-29 21:40:20  I talked with friends and it was a fun but ser...                                                                                                    \n",
       "2017-11-29 21:50:49  The conversation was relatively light hearted,...                                                                                                    \n",
       "2017-11-29 22:12:38  Our conversations went really well! It was rel...                                                                                                    \n",
       "2017-11-29 22:19:21  It was serious, but also sort of surface level...                                                                                                    \n",
       "2017-11-29 22:25:47  Yes the conversation was very lighthearted. Tw...                                                                                                    \n",
       "2017-11-29 22:38:12  I decided to play this game while I was home f...                                                                                                    \n",
       "2017-11-29 22:39:50  I chose to have a conversation with my immedia...                                                                                                    \n",
       "2017-11-29 23:02:51  My conversations were fairly lighthearted beca...                                                                                                    \n",
       "2017-11-29 23:06:39  When I decided to use the app, I didn't really...                                                                                                    \n",
       "2017-11-29 23:09:54  The conversations went very well I think. I wa...                                                                                                    \n",
       "2017-11-29 23:30:52      While talking with my family, the conversa...                                                                                                    \n",
       "2017-11-29 23:34:34  The overall conversation was pretty lightheart...                                                                                                    \n",
       "2017-11-29 23:38:42  Our conservation was filled with various types...                                                                                                    \n",
       "2017-11-29 23:45:25  The conversations we had went quite well. If I...                                                                                                    \n",
       "2017-11-29 23:49:29  Because I played the game with my family membe...                                                                                                    \n",
       "2017-11-29 23:58:12  The conversation is pretty, not too serious. I...                                                                                                    \n",
       "2017-11-29 23:58:33  I used the climate conversation app with 2 oth...                                                                                                    \n",
       "2017-11-29 23:58:44  I talked with my friends, and our conversation...                                                                                                    \n",
       "2017-11-30 03:08:52  My conversation with my friends was not seriou...                                                                                                    \n",
       "2017-11-30 03:12:42  It was half-casual and half-serious. I was sur...                                                                                                    \n",
       "2017-11-30 16:21:45  It went alright. It started out fun but it def...                                                                                                    \n",
       "2017-11-30 20:14:14  I was talking with my friends and the conversa...                                                                                                    \n",
       "2017-11-30 21:45:47  Our conversation started of as humorous, it wa...                                                                                                    \n",
       "2017-12-01 01:56:12  It was serious. My family takes climate change...                                                                                                    \n",
       "2017-12-01 12:47:36  It was quite lighthearted. I had conversation ...                                                                                                    \n",
       "2017-12-01 12:50:06                                     It was serious                                                                                                    \n",
       "2017-12-01 12:52:15  Somewhat lighthearted and humorous. I did not ...                                                                                                    \n",
       "\n",
       "                    How would you change this app to create the kind of conversation you want to have?   \\\n",
       "Timestamp                                                                                                 \n",
       "2017-11-21 22:54:44                        Fill in a space for answers                                    \n",
       "2017-11-21 22:56:46                                            nothing                                    \n",
       "2017-11-21 23:09:14  I would like a spot to fill in any answers and...                                    \n",
       "2017-11-22 21:24:08  More open ended questions, like \"what have you...                                    \n",
       "2017-11-22 22:34:18  I think the \"when so and so was 15, this happe...                                    \n",
       "2017-11-23 18:20:28  \\tWe noticed that a lot of these questions are...                                    \n",
       "2017-11-23 20:57:14  You should add details about the events alongs...                                    \n",
       "2017-11-23 22:18:53  This app DID create the kind of conversation I...                                    \n",
       "2017-11-23 23:54:20  I think the app is really creative and cool. I...                                    \n",
       "2017-11-24 00:50:02  We varied off topic many times to other issues...                                    \n",
       "2017-11-24 11:04:42  I think the app would benefit from having some...                                    \n",
       "2017-11-24 12:43:46  \\nOne addition that would make a meaningful co...                                    \n",
       "2017-11-24 13:40:44  It would be fun to be able to pick a region or...                                    \n",
       "2017-11-24 15:03:18  I think the questions in this app are involved...                                    \n",
       "2017-11-24 17:26:07  I feel like this app is set up quite nicely ex...                                    \n",
       "2017-11-24 17:47:33  What would be cool with this app is if we coul...                                    \n",
       "2017-11-24 17:56:47  I believe this app is actually set up pretty w...                                    \n",
       "2017-11-24 18:29:12  Many of the questions were very brief, and cou...                                    \n",
       "2017-11-24 22:27:26  I think it would be cool to allow people who u...                                    \n",
       "2017-11-25 15:35:51  I think I would make it more interactive. For ...                                    \n",
       "2017-11-25 16:21:11  This app was fantastic in acting as an instiga...                                    \n",
       "2017-11-25 17:24:33  I think that including some explanations or kn...                                    \n",
       "2017-11-25 18:49:11  The App was fine, it had a bit of confusion bu...                                    \n",
       "2017-11-26 11:09:19  I actually thoroughly enjoyed how the app form...                                    \n",
       "2017-11-26 11:42:01  Well first off, I don't know how much of it in...                                    \n",
       "2017-11-26 15:05:50  I would have the user answer a few simple yes ...                                    \n",
       "2017-11-26 15:46:16  I thought the app was really innovative and fu...                                    \n",
       "2017-11-26 16:20:11  I think that is important to remember what has...                                    \n",
       "2017-11-26 20:31:29  The app was very basic, and honestly was prett...                                    \n",
       "2017-11-26 22:24:19  The app started the conversations by asking a ...                                    \n",
       "...                                                                ...                                    \n",
       "2017-11-29 21:11:09  To improve this app, I would include more vari...                                    \n",
       "2017-11-29 21:16:54  I would make the questions move faster and cov...                                    \n",
       "2017-11-29 21:18:20  I would change the app by making it more inter...                                    \n",
       "2017-11-29 21:40:20  I would maybe include more numbers/facts in th...                                    \n",
       "2017-11-29 21:50:49  In order to change the conversation, I would t...                                    \n",
       "2017-11-29 22:12:38  I thought the app did a really good job of tai...                                    \n",
       "2017-11-29 22:19:21  The facts related to a person's age were prett...                                    \n",
       "2017-11-29 22:25:47  I would want it to move through topics much fa...                                    \n",
       "2017-11-29 22:38:12  Overall, I think that this app was very succes...                                    \n",
       "2017-11-29 22:39:50  This app is very useful for creating a space t...                                    \n",
       "2017-11-29 23:02:51  I would like to make the app more interactive ...                                    \n",
       "2017-11-29 23:06:39  First off, I like the format and the personali...                                    \n",
       "2017-11-29 23:09:54  I found this app to be very well structured an...                                    \n",
       "2017-11-29 23:30:52     For the most part, the app had very good qu...                                    \n",
       "2017-11-29 23:34:34   Using ages and presenting a real case at firs...                                    \n",
       "2017-11-29 23:38:42  I really like the layout of this app, especial...                                    \n",
       "2017-11-29 23:45:25  One change I would make to this app to help fa...                                    \n",
       "2017-11-29 23:49:29  I would say the game was deeply intriguing in ...                                    \n",
       "2017-11-29 23:58:12  I want this APP to have some more simple quest...                                    \n",
       "2017-11-29 23:58:33  I would not make any large changes to the appl...                                    \n",
       "2017-11-29 23:58:44  I would like to change this app in like a deba...                                    \n",
       "2017-11-30 03:08:52             Have the questions more user friendly.                                    \n",
       "2017-11-30 03:12:42  More images as complement of sentences, defini...                                    \n",
       "2017-11-30 16:21:45  I think I would add some bullet points to the ...                                    \n",
       "2017-11-30 20:14:14  I would add more questions so that people can ...                                    \n",
       "2017-11-30 21:45:47  maybe including topics such as increase famine...                                    \n",
       "2017-12-01 01:56:12  Maybe get to choose topics you want to stay aw...                                    \n",
       "2017-12-01 12:47:36  I would change this app by adding more informa...                                    \n",
       "2017-12-01 12:50:06                                       I don't know                                    \n",
       "2017-12-01 12:52:15                 I thought this app was just great.                                    \n",
       "\n",
       "                     Did something break?   \\\n",
       "Timestamp                                    \n",
       "2017-11-21 22:54:44                    NaN   \n",
       "2017-11-21 22:56:46                    NaN   \n",
       "2017-11-21 23:09:14                    NaN   \n",
       "2017-11-22 21:24:08                    NaN   \n",
       "2017-11-22 22:34:18                    NaN   \n",
       "2017-11-23 18:20:28                    NaN   \n",
       "2017-11-23 20:57:14                    NaN   \n",
       "2017-11-23 22:18:53                    NaN   \n",
       "2017-11-23 23:54:20                    NaN   \n",
       "2017-11-24 00:50:02                    NaN   \n",
       "2017-11-24 11:04:42                    NaN   \n",
       "2017-11-24 12:43:46                    NaN   \n",
       "2017-11-24 13:40:44                    NaN   \n",
       "2017-11-24 15:03:18                    NaN   \n",
       "2017-11-24 17:26:07                    NaN   \n",
       "2017-11-24 17:47:33                    NaN   \n",
       "2017-11-24 17:56:47                    NaN   \n",
       "2017-11-24 18:29:12                    NaN   \n",
       "2017-11-24 22:27:26                    NaN   \n",
       "2017-11-25 15:35:51                    NaN   \n",
       "2017-11-25 16:21:11                    NaN   \n",
       "2017-11-25 17:24:33                    NaN   \n",
       "2017-11-25 18:49:11                    NaN   \n",
       "2017-11-26 11:09:19                    NaN   \n",
       "2017-11-26 11:42:01                    NaN   \n",
       "2017-11-26 15:05:50                    NaN   \n",
       "2017-11-26 15:46:16                    NaN   \n",
       "2017-11-26 16:20:11                    NaN   \n",
       "2017-11-26 20:31:29                    NaN   \n",
       "2017-11-26 22:24:19                    NaN   \n",
       "...                                    ...   \n",
       "2017-11-29 21:11:09                    NaN   \n",
       "2017-11-29 21:16:54                    NaN   \n",
       "2017-11-29 21:18:20                    NaN   \n",
       "2017-11-29 21:40:20                    NaN   \n",
       "2017-11-29 21:50:49                    NaN   \n",
       "2017-11-29 22:12:38                    NaN   \n",
       "2017-11-29 22:19:21                    NaN   \n",
       "2017-11-29 22:25:47                    NaN   \n",
       "2017-11-29 22:38:12                    NaN   \n",
       "2017-11-29 22:39:50                    NaN   \n",
       "2017-11-29 23:02:51                    NaN   \n",
       "2017-11-29 23:06:39                    NaN   \n",
       "2017-11-29 23:09:54                    NaN   \n",
       "2017-11-29 23:30:52                    NaN   \n",
       "2017-11-29 23:34:34                    NaN   \n",
       "2017-11-29 23:38:42                    NaN   \n",
       "2017-11-29 23:45:25                    NaN   \n",
       "2017-11-29 23:49:29                    NaN   \n",
       "2017-11-29 23:58:12                    NaN   \n",
       "2017-11-29 23:58:33                    NaN   \n",
       "2017-11-29 23:58:44                    NaN   \n",
       "2017-11-30 03:08:52                    NaN   \n",
       "2017-11-30 03:12:42                    NaN   \n",
       "2017-11-30 16:21:45                    NaN   \n",
       "2017-11-30 20:14:14                    NaN   \n",
       "2017-11-30 21:45:47                    NaN   \n",
       "2017-12-01 01:56:12                    NaN   \n",
       "2017-12-01 12:47:36                    NaN   \n",
       "2017-12-01 12:50:06                    NaN   \n",
       "2017-12-01 12:52:15                    NaN   \n",
       "\n",
       "                         Did you experience any glitches with the app?  \\\n",
       "Timestamp                                                                \n",
       "2017-11-21 22:54:44                                              Nope!   \n",
       "2017-11-21 22:56:46                                                NaN   \n",
       "2017-11-21 23:09:14  No, but I did have a personal glitch and am su...   \n",
       "2017-11-22 21:24:08                                                 No   \n",
       "2017-11-22 22:34:18                                                 no   \n",
       "2017-11-23 18:20:28  \\tWe did not experience any glitches with the ...   \n",
       "2017-11-23 20:57:14  When I tried to open the website on Safari, it...   \n",
       "2017-11-23 22:18:53  Nope, it just didn't exactly tell us that the ...   \n",
       "2017-11-23 23:54:20  There was one time that I clicked the next but...   \n",
       "2017-11-24 00:50:02  Sometimes I would click the next button and I ...   \n",
       "2017-11-24 11:04:42  Yes, it glitched out after the last question! ...   \n",
       "2017-11-24 12:43:46                                                NaN   \n",
       "2017-11-24 13:40:44  We experienced quite a bit. It kept taking us ...   \n",
       "2017-11-24 15:03:18  I did not experience any glitch, everything we...   \n",
       "2017-11-24 17:26:07  The app said \"No game progress was found\" afte...   \n",
       "2017-11-24 17:47:33                                                No.   \n",
       "2017-11-24 17:56:47  At the end of all three rounds the game said \"...   \n",
       "2017-11-24 18:29:12                   Did not experience any glitches.   \n",
       "2017-11-24 22:27:26  No, I did not experience any glitches with the...   \n",
       "2017-11-25 15:35:51  Yes - when I was done with the app it then tol...   \n",
       "2017-11-25 16:21:11                                              Nope!   \n",
       "2017-11-25 17:24:33  I originally planned to do a conversation with...   \n",
       "2017-11-25 18:49:11  No glitches but kind of confusing to use. I di...   \n",
       "2017-11-26 11:09:19                 I did not experience any glitches!   \n",
       "2017-11-26 11:42:01  Yes, but not major ones. First off, I don't kn...   \n",
       "2017-11-26 15:05:50                                No, it worked well.   \n",
       "2017-11-26 15:46:16  There were no glitches that I experienced with...   \n",
       "2017-11-26 16:20:11  I did not have any problems with glitches with...   \n",
       "2017-11-26 20:31:29  The app is very simple, but very confusing. I'...   \n",
       "2017-11-26 22:24:19  Yes. I tried to open the link on my phone and ...   \n",
       "...                                                                ...   \n",
       "2017-11-29 21:11:09  Yes, I experienced several glitches with this ...   \n",
       "2017-11-29 21:16:54  Yes, it kept saying internal error im not sure...   \n",
       "2017-11-29 21:18:20  wouldn't save game progress. After we were com...   \n",
       "2017-11-29 21:40:20  Yes, at times when I tried to start the game i...   \n",
       "2017-11-29 21:50:49  there were a couple times when the system woul...   \n",
       "2017-11-29 22:12:38                                                NaN   \n",
       "2017-11-29 22:19:21  Yes. Sometimes there was a server error. At th...   \n",
       "2017-11-29 22:25:47      Yes im not sure if any of my data was saved.    \n",
       "2017-11-29 22:38:12                                                 No   \n",
       "2017-11-29 22:39:50  I did not have any issues while using the appl...   \n",
       "2017-11-29 23:02:51  The app responded slowly which may have been d...   \n",
       "2017-11-29 23:06:39                                         I did not    \n",
       "2017-11-29 23:09:54                                           Flawless   \n",
       "2017-11-29 23:30:52                                                 no   \n",
       "2017-11-29 23:34:34                                                 No   \n",
       "2017-11-29 23:38:42            No, I did not experience any glitches .   \n",
       "2017-11-29 23:45:25                    Not anything that was noticed.    \n",
       "2017-11-29 23:49:29                                                NaN   \n",
       "2017-11-29 23:58:12  Yes. I can not have the conversation with all ...   \n",
       "2017-11-29 23:58:33  I originally had 3 friends ready to play but e...   \n",
       "2017-11-29 23:58:44                                                NaN   \n",
       "2017-11-30 03:08:52                        Yes, hard to open the app.    \n",
       "2017-11-30 03:12:42                                                NaN   \n",
       "2017-11-30 16:21:45                                                No.   \n",
       "2017-11-30 20:14:14  I did not experience any glitches. Nice app so...   \n",
       "2017-11-30 21:45:47               the app was actually very insightful   \n",
       "2017-12-01 01:56:12  Yes, an error message: There was a problem loa...   \n",
       "2017-12-01 12:47:36            There were some technological glitches.   \n",
       "2017-12-01 12:50:06                                                 no   \n",
       "2017-12-01 12:52:15                                               Nope   \n",
       "\n",
       "                     Unnamed: 5  \\\n",
       "Timestamp                         \n",
       "2017-11-21 22:54:44         NaN   \n",
       "2017-11-21 22:56:46         NaN   \n",
       "2017-11-21 23:09:14         NaN   \n",
       "2017-11-22 21:24:08         NaN   \n",
       "2017-11-22 22:34:18         NaN   \n",
       "2017-11-23 18:20:28         NaN   \n",
       "2017-11-23 20:57:14         NaN   \n",
       "2017-11-23 22:18:53         NaN   \n",
       "2017-11-23 23:54:20         NaN   \n",
       "2017-11-24 00:50:02         NaN   \n",
       "2017-11-24 11:04:42         NaN   \n",
       "2017-11-24 12:43:46         NaN   \n",
       "2017-11-24 13:40:44         NaN   \n",
       "2017-11-24 15:03:18         NaN   \n",
       "2017-11-24 17:26:07         NaN   \n",
       "2017-11-24 17:47:33         NaN   \n",
       "2017-11-24 17:56:47         NaN   \n",
       "2017-11-24 18:29:12         NaN   \n",
       "2017-11-24 22:27:26         NaN   \n",
       "2017-11-25 15:35:51         NaN   \n",
       "2017-11-25 16:21:11         NaN   \n",
       "2017-11-25 17:24:33         NaN   \n",
       "2017-11-25 18:49:11         NaN   \n",
       "2017-11-26 11:09:19         NaN   \n",
       "2017-11-26 11:42:01         NaN   \n",
       "2017-11-26 15:05:50         NaN   \n",
       "2017-11-26 15:46:16         NaN   \n",
       "2017-11-26 16:20:11         NaN   \n",
       "2017-11-26 20:31:29         NaN   \n",
       "2017-11-26 22:24:19         NaN   \n",
       "...                         ...   \n",
       "2017-11-29 21:11:09         NaN   \n",
       "2017-11-29 21:16:54         NaN   \n",
       "2017-11-29 21:18:20         NaN   \n",
       "2017-11-29 21:40:20         NaN   \n",
       "2017-11-29 21:50:49         NaN   \n",
       "2017-11-29 22:12:38         NaN   \n",
       "2017-11-29 22:19:21         NaN   \n",
       "2017-11-29 22:25:47         NaN   \n",
       "2017-11-29 22:38:12         NaN   \n",
       "2017-11-29 22:39:50         NaN   \n",
       "2017-11-29 23:02:51         NaN   \n",
       "2017-11-29 23:06:39         NaN   \n",
       "2017-11-29 23:09:54         NaN   \n",
       "2017-11-29 23:30:52         NaN   \n",
       "2017-11-29 23:34:34         NaN   \n",
       "2017-11-29 23:38:42         NaN   \n",
       "2017-11-29 23:45:25         NaN   \n",
       "2017-11-29 23:49:29         NaN   \n",
       "2017-11-29 23:58:12         NaN   \n",
       "2017-11-29 23:58:33         NaN   \n",
       "2017-11-29 23:58:44         NaN   \n",
       "2017-11-30 03:08:52         NaN   \n",
       "2017-11-30 03:12:42         NaN   \n",
       "2017-11-30 16:21:45         NaN   \n",
       "2017-11-30 20:14:14         NaN   \n",
       "2017-11-30 21:45:47         NaN   \n",
       "2017-12-01 01:56:12         NaN   \n",
       "2017-12-01 12:47:36         NaN   \n",
       "2017-12-01 12:50:06         NaN   \n",
       "2017-12-01 12:52:15         NaN   \n",
       "\n",
       "                    If you are a UW student using this app for a class, please enter your student ID  \\\n",
       "Timestamp                                                                                              \n",
       "2017-11-21 22:54:44                                            1628984                                 \n",
       "2017-11-21 22:56:46                                            1560984                                 \n",
       "2017-11-21 23:09:14                                            1628984                                 \n",
       "2017-11-22 21:24:08                                            7833771                                 \n",
       "2017-11-22 22:34:18                                            1667348                                 \n",
       "2017-11-23 18:20:28                                            1269708                                 \n",
       "2017-11-23 20:57:14                                            1630169                                 \n",
       "2017-11-23 22:18:53                                            1775249                                 \n",
       "2017-11-23 23:54:20                                            1729638                                 \n",
       "2017-11-24 00:50:02                                            1763516                                 \n",
       "2017-11-24 11:04:42                                            1635914                                 \n",
       "2017-11-24 12:43:46                                            1636063                                 \n",
       "2017-11-24 13:40:44                                            1771116                                 \n",
       "2017-11-24 15:03:18                                            1539609                                 \n",
       "2017-11-24 17:26:07                                            1733195                                 \n",
       "2017-11-24 17:47:33                                            1736263                                 \n",
       "2017-11-24 17:56:47    1733195 (re-doing it to make it more thorough)                                  \n",
       "2017-11-24 18:29:12                                            1721301                                 \n",
       "2017-11-24 22:27:26                                            1736280                                 \n",
       "2017-11-25 15:35:51                                            1729860                                 \n",
       "2017-11-25 16:21:11                                            1374314                                 \n",
       "2017-11-25 17:24:33                                            1764811                                 \n",
       "2017-11-25 18:49:11                                            1625296                                 \n",
       "2017-11-26 11:09:19                                            1734905                                 \n",
       "2017-11-26 11:42:01                                            1630249                                 \n",
       "2017-11-26 15:05:50                                            1677318                                 \n",
       "2017-11-26 15:46:16                                            1732958                                 \n",
       "2017-11-26 16:20:11                                            1630311                                 \n",
       "2017-11-26 20:31:29                                            1774002                                 \n",
       "2017-11-26 22:24:19                                            1725061                                 \n",
       "...                                                                ...                                 \n",
       "2017-11-29 21:11:09                                            1632299                                 \n",
       "2017-11-29 21:16:54                                            1726635                                 \n",
       "2017-11-29 21:18:20                                            1522489                                 \n",
       "2017-11-29 21:40:20                                            1725376                                 \n",
       "2017-11-29 21:50:49                                            1564335                                 \n",
       "2017-11-29 22:12:38                                            1521063                                 \n",
       "2017-11-29 22:19:21                                            1562515                                 \n",
       "2017-11-29 22:25:47                                            1726635                                 \n",
       "2017-11-29 22:38:12                                            1770515                                 \n",
       "2017-11-29 22:39:50                                            1562599                                 \n",
       "2017-11-29 23:02:51                                            1630515                                 \n",
       "2017-11-29 23:06:39                                            1736314                                 \n",
       "2017-11-29 23:09:54                                            1575191                                 \n",
       "2017-11-29 23:30:52                                            1574618                                 \n",
       "2017-11-29 23:34:34                                            1765275                                 \n",
       "2017-11-29 23:38:42                                            1627502                                 \n",
       "2017-11-29 23:45:25                                            1622114                                 \n",
       "2017-11-29 23:49:29                                            1668409                                 \n",
       "2017-11-29 23:58:12                                            1770124                                 \n",
       "2017-11-29 23:58:33                                            1760719                                 \n",
       "2017-11-29 23:58:44                                            1665311                                 \n",
       "2017-11-30 03:08:52                                            1566865                                 \n",
       "2017-11-30 03:12:42                                            1534025                                 \n",
       "2017-11-30 16:21:45                                            1642541                                 \n",
       "2017-11-30 20:14:14                                            choi828                                 \n",
       "2017-11-30 21:45:47                                            1770906                                 \n",
       "2017-12-01 01:56:12                                            1660779                                 \n",
       "2017-12-01 12:47:36                                            sikim45                                 \n",
       "2017-12-01 12:50:06                                            1263685                                 \n",
       "2017-12-01 12:52:15                                            1238914                                 \n",
       "\n",
       "                    What events or questions did you find sparked the most conversation? Why? Where did those questions take your conversation?   \n",
       "Timestamp                                                                                                                                         \n",
       "2017-11-21 22:54:44  Coal, we talked about how good solar and wind ...                                                                            \n",
       "2017-11-21 22:56:46                               what do we eat today                                                                            \n",
       "2017-11-21 23:09:14  One of the biggest conversation starters was w...                                                                            \n",
       "2017-11-22 21:24:08  Talking about the pika being endangered. Defin...                                                                            \n",
       "2017-11-22 22:34:18  The question about rivers as people. None of u...                                                                            \n",
       "2017-11-23 18:20:28  \\t\\n        The questions we talked most about...                                                                            \n",
       "2017-11-23 20:57:14  The event that sparked the most was the worst ...                                                                            \n",
       "2017-11-23 22:18:53  We spoke mostly about our own experiences and ...                                                                            \n",
       "2017-11-23 23:54:20  Without a doubt, I found that the questions th...                                                                            \n",
       "2017-11-24 00:50:02  The mt St. Helens eruption was talked about bc...                                                                            \n",
       "2017-11-24 11:04:42  The questions that sparked the most interest w...                                                                            \n",
       "2017-11-24 12:43:46  The questions about water usage and drought we...                                                                            \n",
       "2017-11-24 13:40:44  I found that the questions that asked us about...                                                                            \n",
       "2017-11-24 15:03:18  There are some topics that sparked the opinion...                                                                            \n",
       "2017-11-24 17:26:07  The events that sparked the most conversation ...                                                                            \n",
       "2017-11-24 17:47:33  The first question that was asked was very ins...                                                                            \n",
       "2017-11-24 17:56:47  I found that questions asking about superfund ...                                                                            \n",
       "2017-11-24 18:29:12  The questions that sparked the most conversati...                                                                            \n",
       "2017-11-24 22:27:26  The questions that sparked the most conversati...                                                                            \n",
       "2017-11-25 15:35:51  When my friend Amelie was asked if she or anyo...                                                                            \n",
       "2017-11-25 16:21:11  Most, if not all, of the questions that the ap...                                                                            \n",
       "2017-11-25 17:24:33  It was the question about charging people and ...                                                                            \n",
       "2017-11-25 18:49:11  Since my brother and I frequently talk about t...                                                                            \n",
       "2017-11-26 11:09:19  One question that sparked a lot of conversatio...                                                                            \n",
       "2017-11-26 11:42:01  Basically every question sparked some sort of ...                                                                            \n",
       "2017-11-26 15:05:50  The event which most sparked our conversation ...                                                                            \n",
       "2017-11-26 15:46:16  There were definitely some questions that the ...                                                                            \n",
       "2017-11-26 16:20:11  First, the questions regarding specific summer...                                                                            \n",
       "2017-11-26 20:31:29  Questions about ozone created a lot of questio...                                                                            \n",
       "2017-11-26 22:24:19  The questions about the drought in California ...                                                                            \n",
       "...                                                                ...                                                                            \n",
       "2017-11-29 21:11:09  While talking with my Republican roommate, the...                                                                            \n",
       "2017-11-29 21:16:54  The questions about carbon storage led to the ...                                                                            \n",
       "2017-11-29 21:18:20  The drought in CA sparked the most conversatio...                                                                            \n",
       "2017-11-29 21:40:20  The question that sparked the most conversatio...                                                                            \n",
       "2017-11-29 21:50:49  The events that sparked the most conversation ...                                                                            \n",
       "2017-11-29 22:12:38  I'd say that the majority of our lengthy conve...                                                                            \n",
       "2017-11-29 22:19:21  We're from different cities in the general sam...                                                                            \n",
       "2017-11-29 22:25:47  The most controversial topic was storing carbo...                                                                            \n",
       "2017-11-29 22:38:12  As I mentioned previously, my parents are both...                                                                            \n",
       "2017-11-29 22:39:50  The questions that seemed to spark the most co...                                                                            \n",
       "2017-11-29 23:02:51  One of our most memorable conversations was wh...                                                                            \n",
       "2017-11-29 23:06:39  The events that sparked most questions were by...                                                                            \n",
       "2017-11-29 23:09:54  Since my family members did not need to be con...                                                                            \n",
       "2017-11-29 23:30:52     The particular questions that sparked the m...                                                                            \n",
       "2017-11-29 23:34:34   As I mentioned below, the overall mood was pr...                                                                            \n",
       "2017-11-29 23:38:42  Since I am enrolled in class , and have been e...                                                                            \n",
       "2017-11-29 23:45:25  The questions that sparked the most conversati...                                                                            \n",
       "2017-11-29 23:49:29  The two questions above definitely sparked the...                                                                            \n",
       "2017-11-29 23:58:12  We sparkle the most on the topic of coal and w...                                                                            \n",
       "2017-11-29 23:58:33  One of the topics that we talked a lot about w...                                                                            \n",
       "2017-11-29 23:58:44  There were few questions that actually applied...                                                                            \n",
       "2017-11-30 03:08:52  About whether humans have an impact on climate...                                                                            \n",
       "2017-11-30 03:12:42  We shared many opinions on the global collabor...                                                                            \n",
       "2017-11-30 16:21:45  I would say the political/policy questions def...                                                                            \n",
       "2017-11-30 20:14:14  How is your community shaped by the climate or...                                                                            \n",
       "2017-11-30 21:45:47  one of the conversations that had various poin...                                                                            \n",
       "2017-12-01 01:56:12  The ones that were more political, like when G...                                                                            \n",
       "2017-12-01 12:47:36  We mostly talked about recent climate changes ...                                                                            \n",
       "2017-12-01 12:50:06                              Artic Sea ice melting                                                                            \n",
       "2017-12-01 12:52:15  We talked a lot about ice melting because we t...                                                                            \n",
       "\n",
       "[156 rows x 7 columns]"
      ]
     },
     "execution_count": 3,
     "metadata": {},
     "output_type": "execute_result"
    }
   ],
   "source": [
    "feedback"
   ]
  },
  {
   "cell_type": "markdown",
   "metadata": {},
   "source": [
    "# Try some NLTK sentiment analysis"
   ]
  },
  {
   "cell_type": "code",
   "execution_count": 4,
   "metadata": {
    "ExecuteTime": {
     "end_time": "2017-12-02T03:28:16.237082Z",
     "start_time": "2017-12-02T03:28:16.196822Z"
    }
   },
   "outputs": [
    {
     "name": "stderr",
     "output_type": "stream",
     "text": [
      "/homes/gws/kdorosch/software/anaconda2/lib/python2.7/site-packages/nltk/twitter/__init__.py:20: UserWarning: The twython library has not been installed. Some functionality from the twitter package will not be available.\n",
      "  warnings.warn(\"The twython library has not been installed. \"\n"
     ]
    }
   ],
   "source": [
    "from nltk.sentiment.vader import SentimentIntensityAnalyzer"
   ]
  },
  {
   "cell_type": "code",
   "execution_count": 5,
   "metadata": {
    "ExecuteTime": {
     "end_time": "2017-12-02T03:28:16.371895Z",
     "start_time": "2017-12-02T03:28:16.240299Z"
    }
   },
   "outputs": [
    {
     "name": "stdout",
     "output_type": "stream",
     "text": [
      "[nltk_data] Downloading package vader_lexicon to\n",
      "[nltk_data]     /homes/gws/kdorosch/nltk_data...\n",
      "[nltk_data]   Package vader_lexicon is already up-to-date!\n"
     ]
    },
    {
     "data": {
      "text/plain": [
       "True"
      ]
     },
     "execution_count": 5,
     "metadata": {},
     "output_type": "execute_result"
    }
   ],
   "source": [
    "nltk.download('vader_lexicon')"
   ]
  },
  {
   "cell_type": "markdown",
   "metadata": {},
   "source": [
    "## Compute the sentiment and output a data frame"
   ]
  },
  {
   "cell_type": "code",
   "execution_count": 6,
   "metadata": {
    "ExecuteTime": {
     "end_time": "2017-12-02T03:28:16.718799Z",
     "start_time": "2017-12-02T03:28:16.375020Z"
    },
    "scrolled": false
   },
   "outputs": [],
   "source": [
    "sia = SentimentIntensityAnalyzer()\n",
    "comment_column = feedback.iloc[:,0]\n",
    "sentiments = np.zeros((len(comment_column), 3))\n",
    "for comment_i, comment in enumerate(comment_column):\n",
    "    ss = sia.polarity_scores(comment)\n",
    "    s = [ss.get(\"pos\"), ss.get(\"neu\"), ss.get(\"neg\")]\n",
    "    sentiments[comment_i] = s\n",
    "sentiments_df = pd.DataFrame(data=sentiments, columns=[\"pos\", \"neu\", \"neg\"])"
   ]
  },
  {
   "cell_type": "markdown",
   "metadata": {},
   "source": [
    "## Visualize the distribution of positive vs negative\n",
    "\n",
    "Things to look for:\n",
    "\n",
    "* Is it more positive or negative?\n",
    "* Are there multiple clusters?\n",
    "\n",
    "Keep in mind that there is a 3rd option (neutral) that is not represented here."
   ]
  },
  {
   "cell_type": "code",
   "execution_count": 7,
   "metadata": {
    "ExecuteTime": {
     "end_time": "2017-12-02T03:28:22.252568Z",
     "start_time": "2017-12-02T03:28:16.766467Z"
    }
   },
   "outputs": [
    {
     "data": {
      "image/png": "[encoded data removed]",
      "text/plain": [
       "<matplotlib.figure.Figure at 0x7f3b32750b50>"
      ]
     },
     "metadata": {},
     "output_type": "display_data"
    },
    {
     "data": {
      "image/png": "[encoded data removed]",
      "text/plain": [
       "<matplotlib.figure.Figure at 0x7f3b32895f90>"
      ]
     },
     "metadata": {},
     "output_type": "display_data"
    },
    {
     "data": {
      "image/png": "[encoded data removed]",
      "text/plain": [
       "<matplotlib.figure.Figure at 0x7f3b3289ebd0>"
      ]
     },
     "metadata": {},
     "output_type": "display_data"
    }
   ],
   "source": [
    "p = sns.jointplot(x=\"pos\", y=\"neg\", data=sentiments_df, kind=\"kde\")\n",
    "p.ax_joint.set_xlim(0,1)\n",
    "p.ax_joint.set_ylim(0,1)\n",
    "plt.show()\n",
    "\n",
    "p = sns.jointplot(x=\"pos\", y=\"neg\", data=sentiments_df, kind=\"kde\")\n",
    "plt.show()\n",
    "\n",
    "p = sns.jointplot(x=\"pos\", y=\"neg\", data=sentiments_df, kind=\"kde\")\n",
    "p.ax_joint.set_xlim(0,0.4)\n",
    "p.ax_joint.set_ylim(0,0.15)\n",
    "plt.show()"
   ]
  },
  {
   "cell_type": "markdown",
   "metadata": {},
   "source": [
    "This is not so informative, let's move on to topic modeling."
   ]
  },
  {
   "cell_type": "markdown",
   "metadata": {},
   "source": [
    "# Topic modeling"
   ]
  },
  {
   "cell_type": "code",
   "execution_count": 8,
   "metadata": {
    "ExecuteTime": {
     "end_time": "2017-12-02T03:28:22.338508Z",
     "start_time": "2017-12-02T03:28:22.255475Z"
    }
   },
   "outputs": [],
   "source": [
    "from sklearn.feature_extraction.text import TfidfVectorizer, CountVectorizer\n",
    "from sklearn.decomposition import NMF, LatentDirichletAllocation"
   ]
  },
  {
   "cell_type": "markdown",
   "metadata": {},
   "source": [
    "## Remove mid-word punctuation\n",
    "\n",
    "All other punctuation is handled by the tokenizer."
   ]
  },
  {
   "cell_type": "code",
   "execution_count": 9,
   "metadata": {
    "ExecuteTime": {
     "end_time": "2017-12-02T03:28:22.407216Z",
     "start_time": "2017-12-02T03:28:22.341117Z"
    }
   },
   "outputs": [],
   "source": [
    "comment_column = feedback.iloc[:, 0]\n",
    "comment_column = [x.replace(\"'\", \"\") for x in comment_column]\n",
    "comment_column = [x.replace(\"-\", \"\") for x in comment_column]"
   ]
  },
  {
   "cell_type": "markdown",
   "metadata": {},
   "source": [
    "## TFIDF + NMF\n",
    "\n",
    "TFIDF: Term frequency - inverse document frequency\n",
    "\n",
    "NMF: Non-negative matrix factorization"
   ]
  },
  {
   "cell_type": "markdown",
   "metadata": {},
   "source": [
    "### Transform dataset to counts"
   ]
  },
  {
   "cell_type": "code",
   "execution_count": 10,
   "metadata": {
    "ExecuteTime": {
     "end_time": "2017-12-02T03:28:25.978170Z",
     "start_time": "2017-12-02T03:28:25.929171Z"
    }
   },
   "outputs": [],
   "source": [
    "max_features = 1000\n",
    "tfidf_vec = TfidfVectorizer(max_df=0.95, min_df=2,\n",
    "                            max_features=max_features, stop_words=\"english\")\n",
    "tfidf = tfidf_vec.fit_transform(comment_column)\n",
    "tfidf_feats = tfidf_vec.get_feature_names()"
   ]
  },
  {
   "cell_type": "markdown",
   "metadata": {},
   "source": [
    "### Run NMF\n",
    "\n",
    "Have to specify #/topics a priori."
   ]
  },
  {
   "cell_type": "code",
   "execution_count": 11,
   "metadata": {
    "ExecuteTime": {
     "end_time": "2017-12-02T03:28:27.891538Z",
     "start_time": "2017-12-02T03:28:27.803459Z"
    }
   },
   "outputs": [],
   "source": [
    "n_topics = 10\n",
    "nmf = NMF(n_components=n_topics, random_state=0, init=\"nndsvd\")\n",
    "nmf = nmf.fit(tfidf)"
   ]
  },
  {
   "cell_type": "code",
   "execution_count": 12,
   "metadata": {
    "ExecuteTime": {
     "end_time": "2017-12-02T03:28:27.903502Z",
     "start_time": "2017-12-02T03:28:27.894067Z"
    }
   },
   "outputs": [
    {
     "name": "stdout",
     "output_type": "stream",
     "text": [
      "Topic 0:\n",
      "climate change conversation mom opinions dad family issues people topic\n",
      "Topic 1:\n",
      "warming global think future class members general issue topic family\n",
      "Topic 2:\n",
      "friends talked lighthearted conversation quite felt talking pretty kind changing\n",
      "Topic 3:\n",
      "humorous family members bit conversation talked perspectives immediate pretty dinner\n",
      "Topic 4:\n",
      "started friend talking got deep sad little thanksgiving forced better\n",
      "Topic 5:\n",
      "fun teammates educated wasnt conversation topic lighthearted tone arent chose\n",
      "Topic 6:\n",
      "discussion opinion app subject anticipated turns impressive ideas friends turned\n",
      "Topic 7:\n",
      "conversations really topics think feel just did app use went\n",
      "Topic 8:\n",
      "questions question asked answer answers didnt time events said parents\n",
      "Topic 9:\n",
      "natural disasters affect different interesting realize world happen hurricane understanding\n"
     ]
    }
   ],
   "source": [
    "for topic_idx, topic in enumerate(nmf.components_):\n",
    "    print \"Topic %d:\" % (topic_idx)\n",
    "    print \" \".join([tfidf_feats[i]\n",
    "                    for i in topic.argsort()[:-10 - 1:-1]])"
   ]
  },
  {
   "cell_type": "markdown",
   "metadata": {},
   "source": [
    "## Count vectorization + LDA\n",
    "\n",
    "LDA: Latent Dirichlet allocation"
   ]
  },
  {
   "cell_type": "markdown",
   "metadata": {},
   "source": [
    "### Transform dataset to counts"
   ]
  },
  {
   "cell_type": "code",
   "execution_count": 13,
   "metadata": {
    "ExecuteTime": {
     "end_time": "2017-12-02T03:28:31.910558Z",
     "start_time": "2017-12-02T03:28:31.867298Z"
    }
   },
   "outputs": [],
   "source": [
    "tf_vec = CountVectorizer(max_df=0.95, min_df=2,\n",
    "                         max_features=max_features, stop_words=\"english\")\n",
    "tf = tf_vec.fit_transform(comment_column)\n",
    "tf_feats = tf_vec.get_feature_names()"
   ]
  },
  {
   "cell_type": "markdown",
   "metadata": {},
   "source": [
    "### Run LDA"
   ]
  },
  {
   "cell_type": "code",
   "execution_count": 14,
   "metadata": {
    "ExecuteTime": {
     "end_time": "2017-12-02T03:28:34.566982Z",
     "start_time": "2017-12-02T03:28:33.882828Z"
    }
   },
   "outputs": [],
   "source": [
    "lda = LatentDirichletAllocation(\n",
    "    n_topics=n_topics, learning_method=\"online\", random_state=0)\n",
    "lda = lda.fit(tf)"
   ]
  },
  {
   "cell_type": "markdown",
   "metadata": {},
   "source": [
    "### Output topic clusters"
   ]
  },
  {
   "cell_type": "code",
   "execution_count": 15,
   "metadata": {
    "ExecuteTime": {
     "end_time": "2017-12-02T03:28:35.839602Z",
     "start_time": "2017-12-02T03:28:35.828372Z"
    }
   },
   "outputs": [
    {
     "name": "stdout",
     "output_type": "stream",
     "text": [
      "Topic 0:\n",
      "places sea level points things logical focus round addressed paragraph\n",
      "Topic 1:\n",
      "climate family lighthearted conversation change questions dad talked way pollution\n",
      "Topic 2:\n",
      "events energy passion didn strong devastating republican 20 solutions happened\n",
      "Topic 3:\n",
      "warming global subject discussion conversation times family humans members filled\n",
      "Topic 4:\n",
      "sea intellectual calm gathered mean getting winters barely discussion keeping\n",
      "Topic 5:\n",
      "conversations climate think different conversation change global certain interesting questions\n",
      "Topic 6:\n",
      "person language asked river atm point 111 interviewed wasnt questions\n",
      "Topic 7:\n",
      "water sisters long dams environmental rivers northern holiday dads india\n",
      "Topic 8:\n",
      "conversation friends climate family questions change warming global lighthearted think\n",
      "Topic 9:\n",
      "brothers conservation nice created round periods proposed strong kept excited\n"
     ]
    }
   ],
   "source": [
    "for topic_idx, topic in enumerate(lda.components_):\n",
    "    print \"Topic %d:\" % (topic_idx)\n",
    "    print \" \".join([tf_feats[i]\n",
    "                    for i in topic.argsort()[:-10 - 1:-1]])"
   ]
  },
  {
   "cell_type": "markdown",
   "metadata": {},
   "source": [
    "# Sentence clustering"
   ]
  },
  {
   "cell_type": "code",
   "execution_count": 16,
   "metadata": {
    "ExecuteTime": {
     "end_time": "2017-12-02T03:28:37.942303Z",
     "start_time": "2017-12-02T03:28:37.813237Z"
    }
   },
   "outputs": [],
   "source": [
    "from sklearn.cluster import KMeans\n",
    "from sklearn import metrics\n",
    "from sklearn.decomposition import TruncatedSVD\n",
    "from sklearn.pipeline import make_pipeline\n",
    "from sklearn.preprocessing import Normalizer"
   ]
  },
  {
   "cell_type": "markdown",
   "metadata": {},
   "source": [
    "## Fit the model & predict clusters"
   ]
  },
  {
   "cell_type": "code",
   "execution_count": 17,
   "metadata": {
    "ExecuteTime": {
     "end_time": "2017-12-02T03:28:40.000086Z",
     "start_time": "2017-12-02T03:28:39.820261Z"
    }
   },
   "outputs": [],
   "source": [
    "n_components = 100\n",
    "svd = TruncatedSVD(n_components=n_components)\n",
    "norm = Normalizer(copy=False)\n",
    "lsa = make_pipeline(svd, norm)\n",
    "\n",
    "tfidf_norm = lsa.fit_transform(tfidf)\n",
    "\n",
    "n_clusters = 15\n",
    "km = KMeans(n_clusters=n_clusters, n_init=5)\n",
    "clusters = km.fit_predict(tfidf_norm)"
   ]
  },
  {
   "cell_type": "markdown",
   "metadata": {},
   "source": [
    "## Find top words in each cluster"
   ]
  },
  {
   "cell_type": "code",
   "execution_count": 18,
   "metadata": {
    "ExecuteTime": {
     "end_time": "2017-12-02T03:28:41.820102Z",
     "start_time": "2017-12-02T03:28:41.812992Z"
    }
   },
   "outputs": [],
   "source": [
    "unordered_centroids = svd.inverse_transform(km.cluster_centers_)\n",
    "ordered_centroids = unordered_centroids.argsort()[:, ::-1]"
   ]
  },
  {
   "cell_type": "code",
   "execution_count": null,
   "metadata": {
    "ExecuteTime": {
     "start_time": "2017-12-02T03:28:41.806Z"
    },
    "scrolled": true
   },
   "outputs": [],
   "source": [
    "for cluster_i in range(n_clusters):\n",
    "    rows = np.where(clusters == cluster_i)[0]\n",
    "    print \"---------- Cluster %d ---------\\n\" % cluster_i\n",
    "    print \"Most important words: \", \" \".join([tf_feats[i] for i in ordered_centroids[cluster_i, :8]])\n",
    "    print \"#/comments in cluster: \", len(rows)\n",
    "    print \"\"\n",
    "    for row in rows:\n",
    "        comment = feedback.iloc[row, 0]\n",
    "        print \"\\t * \", comment, \"\\n\"\n",
    "    print \"\\n\\n\""
   ]
  },
  {
   "cell_type": "markdown",
   "metadata": {},
   "source": [
    "---\n",
    "\n",
    "# Try this on individual sentences instead of whole comments"
   ]
  },
  {
   "cell_type": "markdown",
   "metadata": {},
   "source": [
    "## Transform the data into individual sentences"
   ]
  },
  {
   "cell_type": "code",
   "execution_count": null,
   "metadata": {
    "ExecuteTime": {
     "start_time": "2017-12-02T03:28:46.542Z"
    }
   },
   "outputs": [],
   "source": [
    "import re"
   ]
  },
  {
   "cell_type": "code",
   "execution_count": null,
   "metadata": {
    "ExecuteTime": {
     "start_time": "2017-12-02T03:28:46.552Z"
    }
   },
   "outputs": [],
   "source": [
    "comment_column = feedback.iloc[:,0]\n",
    "comment_sentences = []\n",
    "for comment in comment_column:\n",
    "    split = re.split(r\"\\.|\\?|\\!\", comment)\n",
    "    split = [\" \".join(s.split()) for s in split]\n",
    "    if \"\" in split:\n",
    "        split.remove(\"\")\n",
    "    comment_sentences.extend(split)"
   ]
  },
  {
   "cell_type": "markdown",
   "metadata": {},
   "source": [
    "## NLTK"
   ]
  },
  {
   "cell_type": "markdown",
   "metadata": {},
   "source": [
    "### Compute the sentiment and output a data frame"
   ]
  },
  {
   "cell_type": "code",
   "execution_count": null,
   "metadata": {
    "ExecuteTime": {
     "start_time": "2017-12-02T03:28:51.205Z"
    },
    "scrolled": false
   },
   "outputs": [],
   "source": [
    "sia = SentimentIntensityAnalyzer()\n",
    "sentiments = np.zeros((len(comment_sentences), 3))\n",
    "for comment_i, comment in enumerate(comment_sentences):\n",
    "    ss = sia.polarity_scores(comment)\n",
    "    s = [ss.get(\"pos\"), ss.get(\"neu\"), ss.get(\"neg\")]\n",
    "    sentiments[comment_i] = s\n",
    "sentiments_df = pd.DataFrame(data=sentiments, columns=[\"pos\", \"neu\", \"neg\"])"
   ]
  },
  {
   "cell_type": "markdown",
   "metadata": {},
   "source": [
    "## Visualize the distribution of positive vs negative\n",
    "\n",
    "Things to look for:\n",
    "\n",
    "* Is it more positive or negative?\n",
    "* Are there multiple clusters?\n",
    "\n",
    "Keep in mind that there is a 3rd option (neutral) that is not represented here."
   ]
  },
  {
   "cell_type": "code",
   "execution_count": null,
   "metadata": {
    "ExecuteTime": {
     "start_time": "2017-12-02T03:28:53.431Z"
    }
   },
   "outputs": [],
   "source": [
    "p = sns.jointplot(x=\"pos\", y=\"neg\", data=sentiments_df, kind=\"kde\")\n",
    "p.ax_joint.set_xlim(0,1)\n",
    "p.ax_joint.set_ylim(0,1)\n",
    "plt.show()\n",
    "\n",
    "p = sns.jointplot(x=\"pos\", y=\"neg\", data=sentiments_df, kind=\"kde\")\n",
    "plt.show()\n",
    "\n",
    "p = sns.jointplot(x=\"pos\", y=\"neg\", data=sentiments_df, kind=\"kde\")\n",
    "p.ax_joint.set_xlim(0,0.5)\n",
    "p.ax_joint.set_ylim(0,0.02)\n",
    "plt.show()"
   ]
  },
  {
   "cell_type": "markdown",
   "metadata": {},
   "source": [
    "This is showing that most of the individual sentences are quite neutral or positive."
   ]
  },
  {
   "cell_type": "markdown",
   "metadata": {},
   "source": [
    "## Topic modeling"
   ]
  },
  {
   "cell_type": "markdown",
   "metadata": {},
   "source": [
    "### Remove mid-word punctuation\n",
    "\n",
    "All other punctuation is handled by the tokenizer."
   ]
  },
  {
   "cell_type": "code",
   "execution_count": null,
   "metadata": {
    "ExecuteTime": {
     "start_time": "2017-12-02T03:28:59.565Z"
    }
   },
   "outputs": [],
   "source": [
    "comment_sentences = [x.replace(\"'\", \"\") for x in comment_sentences]\n",
    "comment_sentences = [x.replace(\"-\", \"\") for x in comment_sentences]"
   ]
  },
  {
   "cell_type": "markdown",
   "metadata": {},
   "source": [
    "### TFIDF + NMF\n",
    "\n",
    "#### Transform dataset to counts"
   ]
  },
  {
   "cell_type": "code",
   "execution_count": null,
   "metadata": {
    "ExecuteTime": {
     "start_time": "2017-12-02T03:29:01.647Z"
    }
   },
   "outputs": [],
   "source": [
    "max_features = 1000\n",
    "tfidf_vec = TfidfVectorizer(max_df=0.95, min_df=2,\n",
    "                            max_features=max_features, stop_words=\"english\")\n",
    "tfidf = tfidf_vec.fit_transform(comment_sentences)\n",
    "tfidf_feats = tfidf_vec.get_feature_names()"
   ]
  },
  {
   "cell_type": "markdown",
   "metadata": {},
   "source": [
    "#### Run NMF\n",
    "\n",
    "Have to specify #/topics a priori."
   ]
  },
  {
   "cell_type": "code",
   "execution_count": null,
   "metadata": {
    "ExecuteTime": {
     "start_time": "2017-12-02T03:29:03.770Z"
    }
   },
   "outputs": [],
   "source": [
    "n_topics = 10\n",
    "nmf = NMF(n_components=n_topics, random_state=0, init=\"nndsvd\")\n",
    "nmf = nmf.fit(tfidf)"
   ]
  },
  {
   "cell_type": "code",
   "execution_count": null,
   "metadata": {
    "ExecuteTime": {
     "start_time": "2017-12-02T03:29:03.776Z"
    }
   },
   "outputs": [],
   "source": [
    "for topic_idx, topic in enumerate(nmf.components_):\n",
    "    print \"Topic %d:\" % (topic_idx)\n",
    "    print \" \".join([tfidf_feats[i]\n",
    "                    for i in topic.argsort()[:-10 - 1:-1]])"
   ]
  },
  {
   "cell_type": "markdown",
   "metadata": {},
   "source": [
    "### Count vectorization + LDA\n",
    "#### Transform dataset to counts"
   ]
  },
  {
   "cell_type": "code",
   "execution_count": null,
   "metadata": {
    "ExecuteTime": {
     "start_time": "2017-12-02T03:29:05.900Z"
    }
   },
   "outputs": [],
   "source": [
    "tf_vec = CountVectorizer(max_df=0.95, min_df=2,\n",
    "                         max_features=max_features, stop_words=\"english\")\n",
    "tf = tf_vec.fit_transform(comment_sentences)\n",
    "tf_feats = tf_vec.get_feature_names()"
   ]
  },
  {
   "cell_type": "markdown",
   "metadata": {},
   "source": [
    "#### Run LDA"
   ]
  },
  {
   "cell_type": "code",
   "execution_count": null,
   "metadata": {
    "ExecuteTime": {
     "start_time": "2017-12-02T03:29:07.983Z"
    }
   },
   "outputs": [],
   "source": [
    "lda = LatentDirichletAllocation(\n",
    "    n_topics=n_topics, learning_method=\"online\", random_state=0)\n",
    "lda = lda.fit(tf)"
   ]
  },
  {
   "cell_type": "markdown",
   "metadata": {},
   "source": [
    "#### Output topic clusters"
   ]
  },
  {
   "cell_type": "code",
   "execution_count": null,
   "metadata": {
    "ExecuteTime": {
     "start_time": "2017-12-02T03:29:10.114Z"
    }
   },
   "outputs": [],
   "source": [
    "for topic_idx, topic in enumerate(lda.components_):\n",
    "    print \"Topic %d:\" % (topic_idx)\n",
    "    print \" \".join([tf_feats[i]\n",
    "                    for i in topic.argsort()[:-10 - 1:-1]])"
   ]
  },
  {
   "cell_type": "markdown",
   "metadata": {},
   "source": [
    "## Sentence clustering"
   ]
  },
  {
   "cell_type": "markdown",
   "metadata": {},
   "source": [
    "### Fit the model & predict clusters"
   ]
  },
  {
   "cell_type": "code",
   "execution_count": null,
   "metadata": {
    "ExecuteTime": {
     "start_time": "2017-12-02T03:29:14.512Z"
    }
   },
   "outputs": [],
   "source": [
    "n_components = 100\n",
    "svd = TruncatedSVD(n_components=n_components)\n",
    "norm = Normalizer(copy=False)\n",
    "lsa = make_pipeline(svd, norm)\n",
    "\n",
    "tfidf_norm = lsa.fit_transform(tfidf)\n",
    "\n",
    "n_clusters = 50\n",
    "km = KMeans(n_clusters=n_clusters, n_init=5)\n",
    "clusters = km.fit_predict(tfidf_norm)"
   ]
  },
  {
   "cell_type": "markdown",
   "metadata": {},
   "source": [
    "### Find top words in each cluster"
   ]
  },
  {
   "cell_type": "code",
   "execution_count": null,
   "metadata": {
    "ExecuteTime": {
     "start_time": "2017-12-02T03:29:16.925Z"
    }
   },
   "outputs": [],
   "source": [
    "unordered_centroids = svd.inverse_transform(km.cluster_centers_)\n",
    "ordered_centroids = unordered_centroids.argsort()[:, ::-1]"
   ]
  },
  {
   "cell_type": "code",
   "execution_count": null,
   "metadata": {
    "ExecuteTime": {
     "start_time": "2017-12-02T03:29:16.934Z"
    },
    "scrolled": true
   },
   "outputs": [],
   "source": [
    "for cluster_i in range(n_clusters):\n",
    "    rows = np.where(clusters == cluster_i)[0]\n",
    "    print \"---------- Cluster %d ---------\\n\" % cluster_i\n",
    "    print \"Most important words: \", \" \".join([tf_feats[i] for i in ordered_centroids[cluster_i, :8]])\n",
    "    print \"#/comments in cluster: \", len(rows)\n",
    "    print \"\"\n",
    "    for row in rows:\n",
    "        sentence = comment_sentences[row].strip()\n",
    "        print \"\\t * \", sentence, \"\\n\"\n",
    "    print \"\\n\\n\""
   ]
  },
  {
   "cell_type": "code",
   "execution_count": null,
   "metadata": {},
   "outputs": [],
   "source": []
  }
 ],
 "metadata": {
  "kernelspec": {
   "display_name": "Python [conda root]",
   "language": "python",
   "name": "conda-root-py"
  },
  "language_info": {
   "codemirror_mode": {
    "name": "ipython",
    "version": 2
   },
   "file_extension": ".py",
   "mimetype": "text/x-python",
   "name": "python",
   "nbconvert_exporter": "python",
   "pygments_lexer": "ipython2",
   "version": "2.7.13"
  },
  "toc": {
   "nav_menu": {},
   "number_sections": true,
   "sideBar": true,
   "skip_h1_title": false,
   "toc_cell": false,
   "toc_position": {},
   "toc_section_display": "block",
   "toc_window_display": false
  },
  "varInspector": {
   "cols": {
    "lenName": 16,
    "lenType": 16,
    "lenVar": 40
   },
   "kernels_config": {
    "python": {
     "delete_cmd_postfix": "",
     "delete_cmd_prefix": "del ",
     "library": "var_list.py",
     "varRefreshCmd": "print(var_dic_list())"
    },
    "r": {
     "delete_cmd_postfix": ") ",
     "delete_cmd_prefix": "rm(",
     "library": "var_list.r",
     "varRefreshCmd": "cat(var_dic_list()) "
    }
   },
   "types_to_exclude": [
    "module",
    "function",
    "builtin_function_or_method",
    "instance",
    "_Feature"
   ],
   "window_display": false
  }
 },
 "nbformat": 4,
 "nbformat_minor": 2
}
